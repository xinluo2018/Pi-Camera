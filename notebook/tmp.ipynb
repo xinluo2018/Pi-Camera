{
 "cells": [
  {
   "cell_type": "code",
   "execution_count": 1,
   "metadata": {},
   "outputs": [],
   "source": [
    "import os\n",
    "root_proj = '/home/xin/Desktop/pi-camera'\n",
    "os.chdir(root_proj)"
   ]
  },
  {
   "cell_type": "markdown",
   "metadata": {},
   "source": []
  },
  {
   "cell_type": "code",
   "execution_count": 2,
   "metadata": {},
   "outputs": [],
   "source": [
    "from get_filesPath import get_filesPath \n"
   ]
  },
  {
   "cell_type": "code",
   "execution_count": 3,
   "metadata": {},
   "outputs": [
    {
     "name": "stdout",
     "output_type": "stream",
     "text": [
      "['/home/xin/Desktop/pi-camera/img_2022-09-26-21-43-51.jpg', '/home/xin/Desktop/pi-camera/img_2022-09-26-21-44-11.jpg', '/home/xin/Desktop/pi-camera/img_2022-09-26-21-43-40.jpg', '/home/xin/Desktop/pi-camera/img_2022-09-26-21-44-50.jpg', '/home/xin/Desktop/pi-camera/img_2022-09-26-21-44-01.jpg', '/home/xin/Desktop/pi-camera/img_2022-09-26-21-44-22.jpg', '/home/xin/Desktop/pi-camera/img_2022-09-26-21-44-40.jpg', '/home/xin/Desktop/pi-camera/img_2022-09-26-21-45-00.jpg', '/home/xin/Desktop/pi-camera/img_2022-09-26-21-45-11.jpg']\n"
     ]
    }
   ],
   "source": [
    "paths = get_filesPath(base='', key_words='.jpg')\n",
    "print(paths)\n",
    "\n"
   ]
  },
  {
   "cell_type": "code",
   "execution_count": 6,
   "metadata": {},
   "outputs": [
    {
     "data": {
      "text/plain": [
       "['/home/xin/Desktop/pi-camera/img_2022-09-26-21-43-40.jpg',\n",
       " '/home/xin/Desktop/pi-camera/img_2022-09-26-21-43-51.jpg',\n",
       " '/home/xin/Desktop/pi-camera/img_2022-09-26-21-44-01.jpg',\n",
       " '/home/xin/Desktop/pi-camera/img_2022-09-26-21-44-11.jpg',\n",
       " '/home/xin/Desktop/pi-camera/img_2022-09-26-21-44-22.jpg',\n",
       " '/home/xin/Desktop/pi-camera/img_2022-09-26-21-44-40.jpg',\n",
       " '/home/xin/Desktop/pi-camera/img_2022-09-26-21-44-50.jpg',\n",
       " '/home/xin/Desktop/pi-camera/img_2022-09-26-21-45-00.jpg',\n",
       " '/home/xin/Desktop/pi-camera/img_2022-09-26-21-45-11.jpg']"
      ]
     },
     "execution_count": 6,
     "metadata": {},
     "output_type": "execute_result"
    }
   ],
   "source": [
    "# paths.sort()\n",
    "paths"
   ]
  },
  {
   "cell_type": "code",
   "execution_count": 7,
   "metadata": {},
   "outputs": [
    {
     "ename": "ModuleNotFoundError",
     "evalue": "No module named 'cv2'",
     "output_type": "error",
     "traceback": [
      "\u001b[0;31m---------------------------------------------------------------------------\u001b[0m",
      "\u001b[0;31mModuleNotFoundError\u001b[0m                       Traceback (most recent call last)",
      "Cell \u001b[0;32mIn [7], line 1\u001b[0m\n\u001b[0;32m----> 1\u001b[0m \u001b[38;5;28;01mimport\u001b[39;00m \u001b[38;5;21;01mcv2\u001b[39;00m\n\u001b[1;32m      2\u001b[0m \u001b[38;5;28;01mimport\u001b[39;00m \u001b[38;5;21;01mnumpy\u001b[39;00m \u001b[38;5;28;01mas\u001b[39;00m \u001b[38;5;21;01mnp\u001b[39;00m\n",
      "\u001b[0;31mModuleNotFoundError\u001b[0m: No module named 'cv2'"
     ]
    }
   ],
   "source": [
    "import cv2\n",
    "import numpy as np\n",
    "  \n",
    "# choose codec according to format needed\n",
    "fourcc = cv2.VideoWriter_fourcc(*'mp4v') \n",
    "video = cv2.VideoWriter('video.avi', fourcc, 1, (800, 600))\n",
    "\n",
    "for j in range(0,5):\n",
    "    img = cv2.imread(str(i) + '.png')\n",
    "    video.write(img)\n",
    "\n",
    "cv2.destroyAllWindows()\n",
    "video.release()\n"
   ]
  }
 ],
 "metadata": {
  "kernelspec": {
   "display_name": "Python 3.9.6 64-bit",
   "language": "python",
   "name": "python3"
  },
  "language_info": {
   "codemirror_mode": {
    "name": "ipython",
    "version": 3
   },
   "file_extension": ".py",
   "mimetype": "text/x-python",
   "name": "python",
   "nbconvert_exporter": "python",
   "pygments_lexer": "ipython3",
   "version": "3.9.6"
  },
  "orig_nbformat": 4,
  "vscode": {
   "interpreter": {
    "hash": "31f2aee4e71d21fbe5cf8b01ff0e069b9275f58929596ceb00d14d90e3e16cd6"
   }
  }
 },
 "nbformat": 4,
 "nbformat_minor": 2
}
